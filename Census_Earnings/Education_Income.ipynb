{
 "cells": [
  {
   "cell_type": "markdown",
   "metadata": {},
   "source": [
    "### Hypothesis : Income bias based on higher education"
   ]
  },
  {
   "cell_type": "code",
   "execution_count": 6,
   "metadata": {},
   "outputs": [],
   "source": [
    "import pandas as pd\n",
    "import numpy as np\n",
    "import matplotlib.pyplot as plt"
   ]
  },
  {
   "cell_type": "code",
   "execution_count": 7,
   "metadata": {},
   "outputs": [],
   "source": [
    "df = pd.read_csv(\"census.csv\")"
   ]
  },
  {
   "cell_type": "code",
   "execution_count": 8,
   "metadata": {},
   "outputs": [],
   "source": [
    "dist_edu = pd.concat([df[df.greater_than_50k == 1].groupby(\"education\").education.count(),\n",
    "                    df[df.greater_than_50k == 0].groupby(\"education\").education.count()], axis=1, sort=False)"
   ]
  },
  {
   "cell_type": "code",
   "execution_count": 9,
   "metadata": {},
   "outputs": [],
   "source": [
    "dist_edu.columns = [\"education_gt_50k\", \"education_lt_50k\"]"
   ]
  },
  {
   "cell_type": "code",
   "execution_count": 10,
   "metadata": {},
   "outputs": [],
   "source": [
    "dist_edu_calc = dist_edu.education_gt_50k / (dist_edu.education_gt_50k + dist_edu.education_lt_50k)"
   ]
  },
  {
   "cell_type": "code",
   "execution_count": 11,
   "metadata": {},
   "outputs": [
    {
     "data": {
      "text/plain": [
       " Doctorate       0.740920\n",
       " Prof-school     0.734375\n",
       " Masters         0.556587\n",
       " Bachelors       0.414753\n",
       " Assoc-voc       0.261216\n",
       " Assoc-acdm      0.248360\n",
       " Some-college    0.190261\n",
       " HS-grad         0.159509\n",
       " 12th            0.076212\n",
       " 10th            0.066452\n",
       " 7th-8th         0.061920\n",
       " 9th             0.052529\n",
       " 11th            0.051064\n",
       " 5th-6th         0.048048\n",
       " 1st-4th         0.035714\n",
       " Preschool            NaN\n",
       "dtype: float64"
      ]
     },
     "execution_count": 11,
     "metadata": {},
     "output_type": "execute_result"
    }
   ],
   "source": [
    "dist_edu_calc.sort_values(ascending=False, inplace=True)\n",
    "dist_edu_calc"
   ]
  },
  {
   "cell_type": "code",
   "execution_count": 12,
   "metadata": {},
   "outputs": [
    {
     "data": {
      "image/png": "[encoded data removed]",
      "text/plain": [
       "<Figure size 432x288 with 1 Axes>"
      ]
     },
     "metadata": {},
     "output_type": "display_data"
    }
   ],
   "source": [
    "ax_edu = dist_edu_calc.plot(kind=\"bar\", color=\"c\")\n",
    "ax_edu.set_xticklabels(dist_edu_calc.index, rotation=30, fontsize=8, ha=\"right\")\n",
    "ax_edu.set_xlabel(\"Education Level\")\n",
    "ax_edu.set_ylabel(\"Percentage of People\")\n",
    "plt.savefig(\"Percentage of educated people earning above 50k.png\")"
   ]
  },
  {
   "cell_type": "markdown",
   "metadata": {},
   "source": [
    "### Conclusion: More educated people who earn above \\$50k have higher forms of education."
   ]
  }
 ],
 "metadata": {
  "kernelspec": {
   "display_name": "Python 3",
   "language": "python",
   "name": "python3"
  },
  "language_info": {
   "codemirror_mode": {
    "name": "ipython",
    "version": 3
   },
   "file_extension": ".py",
   "mimetype": "text/x-python",
   "name": "python",
   "nbconvert_exporter": "python",
   "pygments_lexer": "ipython3",
   "version": "3.6.5"
  }
 },
 "nbformat": 4,
 "nbformat_minor": 2
}
