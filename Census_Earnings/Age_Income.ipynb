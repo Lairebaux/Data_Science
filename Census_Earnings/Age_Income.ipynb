{
 "cells": [
  {
   "cell_type": "markdown",
   "metadata": {},
   "source": [
    "## Hypothesis: Income bias based on age"
   ]
  },
  {
   "cell_type": "code",
   "execution_count": null,
   "metadata": {},
   "outputs": [],
   "source": [
    "import pandas as pd\n",
    "import numpy as np\n",
    "import matplotlib.pyplot as plt"
   ]
  },
  {
   "cell_type": "code",
   "execution_count": 3,
   "metadata": {},
   "outputs": [
    {
     "name": "stdout",
     "output_type": "stream",
     "text": [
      "<class 'pandas.core.frame.DataFrame'>\n",
      "RangeIndex: 32560 entries, 0 to 32559\n",
      "Data columns (total 12 columns):\n",
      "age                 32560 non-null int64\n",
      "workclass           30724 non-null object\n",
      "education           32560 non-null object\n",
      "education_num       32560 non-null int64\n",
      "marital_status      32560 non-null object\n",
      "occupation          30717 non-null object\n",
      "relationship        32560 non-null object\n",
      "race                32560 non-null object\n",
      "gender              32560 non-null object\n",
      "hours_per_week      32560 non-null int64\n",
      "native_country      31977 non-null object\n",
      "greater_than_50k    32560 non-null int64\n",
      "dtypes: int64(4), object(8)\n",
      "memory usage: 3.0+ MB\n"
     ]
    }
   ],
   "source": [
    "df = pd.read_csv(\"census.csv\")\n"
   ]
  },
  {
   "cell_type": "code",
   "execution_count": 5,
   "metadata": {},
   "outputs": [],
   "source": [
    "df = df.dropna(how=\"any\")\n",
    "del df[\"education_num\"]"
   ]
  },
  {
   "cell_type": "code",
   "execution_count": 6,
   "metadata": {},
   "outputs": [
    {
     "data": {
      "text/plain": [
       "Index(['age', 'workclass', 'education', 'marital_status', 'occupation',\n",
       "       'relationship', 'race', 'gender', 'hours_per_week', 'native_country',\n",
       "       'greater_than_50k'],\n",
       "      dtype='object')"
      ]
     },
     "execution_count": 6,
     "metadata": {},
     "output_type": "execute_result"
    }
   ],
   "source": [
    "df.columns"
   ]
  },
  {
   "cell_type": "code",
   "execution_count": 18,
   "metadata": {},
   "outputs": [
    {
     "data": {
      "image/png": "[encoded data removed]",
      "text/plain": [
       "<Figure size 432x288 with 1 Axes>"
      ]
     },
     "metadata": {},
     "output_type": "display_data"
    }
   ],
   "source": [
    "above_50k = plt.hist(df[df.greater_than_50k == 1].age.values,                    \n",
    "                     bins=10, \n",
    "                     color=\"r\", \n",
    "                     alpha=0.5,\n",
    "                     ec=\"k\")\n",
    "plt.title(\"Age distribution above $50k\")\n",
    "plt.xlabel(\"Age\")\n",
    "plt.ylabel(\"Frequency\")\n",
    "plt.savefig(\"Age distribution above $50k.png\")"
   ]
  },
  {
   "cell_type": "code",
   "execution_count": 17,
   "metadata": {},
   "outputs": [
    {
     "data": {
      "image/png": "[encoded data removed]",
      "text/plain": [
       "<Figure size 432x288 with 1 Axes>"
      ]
     },
     "metadata": {},
     "output_type": "display_data"
    }
   ],
   "source": [
    "below_50k = plt.hist(df[df.greater_than_50k == 0].age.values,\n",
    "                     bins=10,\n",
    "                     color=\"r\",\n",
    "                     alpha=0.5,\n",
    "                     ec=\"k\")\n",
    "plt.title(\"Age distribution below $50k\")\n",
    "plt.xlabel(\"Age\")\n",
    "plt.ylabel(\"Frequency\")\n",
    "plt.savefig(\"Age distribution below $50k.png\")"
   ]
  },
  {
   "cell_type": "markdown",
   "metadata": {},
   "source": [
    "### Conclusion: \n",
    "### People who earn above \\$50k are mostly between their late 30s and mid 50s.<br/>People who earn below \\$50k are mostly between 20 and 30 years old."
   ]
  }
 ],
 "metadata": {
  "kernelspec": {
   "display_name": "Python 3",
   "language": "python",
   "name": "python3"
  },
  "language_info": {
   "codemirror_mode": {
    "name": "ipython",
    "version": 3
   },
   "file_extension": ".py",
   "mimetype": "text/x-python",
   "name": "python",
   "nbconvert_exporter": "python",
   "pygments_lexer": "ipython3",
   "version": "3.6.5"
  }
 },
 "nbformat": 4,
 "nbformat_minor": 1
}
