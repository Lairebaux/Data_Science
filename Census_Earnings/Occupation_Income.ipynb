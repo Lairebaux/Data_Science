{
 "cells": [
  {
   "cell_type": "markdown",
   "metadata": {},
   "source": [
    "### Hypothesis : Income bias based on occupation"
   ]
  },
  {
   "cell_type": "code",
   "execution_count": 1,
   "metadata": {},
   "outputs": [],
   "source": [
    "import pandas as pd\n",
    "import numpy as np\n",
    "import matplotlib.pyplot as plt"
   ]
  },
  {
   "cell_type": "code",
   "execution_count": 2,
   "metadata": {},
   "outputs": [],
   "source": [
    "df = pd.read_csv(\"census.csv\")"
   ]
  },
  {
   "cell_type": "code",
   "execution_count": 3,
   "metadata": {},
   "outputs": [
    {
     "data": {
      "text/plain": [
       "Index(['age', 'workclass', 'education', 'education_num', 'marital_status',\n",
       "       'occupation', 'relationship', 'race', 'gender', 'hours_per_week',\n",
       "       'native_country', 'greater_than_50k'],\n",
       "      dtype='object')"
      ]
     },
     "execution_count": 3,
     "metadata": {},
     "output_type": "execute_result"
    }
   ],
   "source": [
    "df.columns"
   ]
  },
  {
   "cell_type": "code",
   "execution_count": 8,
   "metadata": {},
   "outputs": [],
   "source": [
    "o = pd.concat([df[df.greater_than_50k == 1].groupby(\"occupation\").occupation.count(),\n",
    "              df[df.greater_than_50k == 0].groupby(\"occupation\").occupation.count()],\n",
    "             axis=1, sort=False)"
   ]
  },
  {
   "cell_type": "code",
   "execution_count": 9,
   "metadata": {},
   "outputs": [
    {
     "data": {
      "text/plain": [
       "Index(['occupation_gt_50k', 'occupation_lt_50k'], dtype='object')"
      ]
     },
     "execution_count": 9,
     "metadata": {},
     "output_type": "execute_result"
    }
   ],
   "source": [
    "o.columns = [\"occupation_gt_50k\", \"occupation_lt_50k\"]\n",
    "o.columns"
   ]
  },
  {
   "cell_type": "code",
   "execution_count": 13,
   "metadata": {},
   "outputs": [
    {
     "data": {
      "text/plain": [
       "occupation\n",
       " Exec-managerial      0.484014\n",
       " Prof-specialty       0.449034\n",
       " Protective-serv      0.325116\n",
       " Tech-support         0.304957\n",
       " Sales                0.269315\n",
       " Craft-repair         0.226641\n",
       " Transport-moving     0.200376\n",
       " Adm-clerical         0.134483\n",
       " Machine-op-inspct    0.124938\n",
       " Farming-fishing      0.115694\n",
       " Armed-Forces         0.111111\n",
       " Handlers-cleaners    0.062774\n",
       " Other-service        0.041578\n",
       " Priv-house-serv      0.006711\n",
       "dtype: float64"
      ]
     },
     "execution_count": 13,
     "metadata": {},
     "output_type": "execute_result"
    }
   ],
   "source": [
    "o_calc = o.occupation_gt_50k / (o.occupation_gt_50k + o.occupation_lt_50k)\n",
    "o_calc.sort_values(ascending=False, inplace=True)\n",
    "o_calc"
   ]
  },
  {
   "cell_type": "code",
   "execution_count": 14,
   "metadata": {},
   "outputs": [
    {
     "data": {
      "text/plain": [
       "Text(0,0.5,'Percentage of People')"
      ]
     },
     "execution_count": 14,
     "metadata": {},
     "output_type": "execute_result"
    },
    {
     "data": {
      "image/png": "[encoded data removed]",
      "text/plain": [
       "<Figure size 432x288 with 1 Axes>"
      ]
     },
     "metadata": {},
     "output_type": "display_data"
    }
   ],
   "source": [
    "ax = o_calc.plot(kind=\"bar\", color=\"y\")\n",
    "ax.set_xticklabels(o_calc.index, rotation=30, fontsize=8, ha=\"right\")\n",
    "ax.set_xlabel(\"Occupation\")\n",
    "ax.set_ylabel(\"Percentage of People\")"
   ]
  },
  {
   "cell_type": "markdown",
   "metadata": {},
   "source": [
    "### Conclusion: People with managerial or specialized occupations earn more money"
   ]
  }
 ],
 "metadata": {
  "kernelspec": {
   "display_name": "Python 3",
   "language": "python",
   "name": "python3"
  },
  "language_info": {
   "codemirror_mode": {
    "name": "ipython",
    "version": 3
   },
   "file_extension": ".py",
   "mimetype": "text/x-python",
   "name": "python",
   "nbconvert_exporter": "python",
   "pygments_lexer": "ipython3",
   "version": "3.6.5"
  }
 },
 "nbformat": 4,
 "nbformat_minor": 2
}
